{
 "cells": [
  {
   "cell_type": "markdown",
   "metadata": {},
   "source": [
    "Burgers equation - Using the FNO model"
   ]
  },
  {
   "cell_type": "code",
   "execution_count": null,
   "metadata": {},
   "outputs": [],
   "source": [
    "import numpy as np\n",
    "import matplotlib.pyplot as plt\n",
    "from tensorflow import keras\n",
    "from random import randint"
   ]
  },
  {
   "cell_type": "code",
   "execution_count": null,
   "metadata": {},
   "outputs": [],
   "source": [
    "input_test=np.load('../data/' + folder + '/input_test.npy')\n",
    "output_test=np.load('../data/' + folder + '/output_test.npy')\n",
    "\n",
    "folder = 'Burgers'\n",
    "loaded_model = keras.models.load_model('../data/'+folder+'/Burgers_FNO.h5', compile=False)\n",
    "\n",
    "rec_output = loaded_model.predict(input_test)\n",
    "index = randint(0, input_test.shape[0]-1)\n",
    "xx=np.linspace(0,1,rec_output.shape[1])\n",
    "\n",
    "plt.figure()\n",
    "plt.grid(True)\n",
    "plt.plot(xx,rec_output[index,:], label='estimated solution')\n",
    "plt.plot(xx,output_test[index,:], label='exact solution', linestyle='--')\n",
    "plt.legend()\n",
    "plt.ylabel('u(x,t) [-]')\n",
    "plt.xlabel('x [-]')\n",
    "plt.title('Test set - index: '+ str(index))"
   ]
  }
 ],
 "metadata": {
  "language_info": {
   "name": "python"
  }
 },
 "nbformat": 4,
 "nbformat_minor": 2
}
