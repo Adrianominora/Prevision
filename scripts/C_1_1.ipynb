{
 "cells": [
  {
   "cell_type": "markdown",
   "metadata": {},
   "source": [
    "Burgers equation in time - Generating training data"
   ]
  },
  {
   "cell_type": "code",
   "execution_count": null,
   "metadata": {},
   "outputs": [],
   "source": [
    "import numpy as np\n",
    "from IPython.display import clear_output\n",
    "from scipy import interpolate"
   ]
  },
  {
   "cell_type": "code",
   "execution_count": null,
   "metadata": {},
   "outputs": [],
   "source": [
    "Nx = 2**6\n",
    "Nt = 2**18\n",
    "dx = 1/Nx\n",
    "dz = 4*dx\n",
    "dt = 1/Nt\n",
    "xx = np.arange(0,1+dx,dx)\n",
    "zz = np.arange(0,1+dz,dz)\n",
    "tt = np.arange(0,0.25+dt,dt)\n",
    "nu = 0.025\n",
    "resolution = 2048*2\n",
    "\n",
    "def compute_u0(xx,zz, mean=0, std_dev=0):\n",
    "    mean = 0\n",
    "    std_dev = 1\n",
    "    u0_ = np.random.normal(mean, std_dev, zz.shape[0])\n",
    "    spl = interpolate.splrep(zz,u0_)\n",
    "    u0 = interpolate.splev(xx,spl)\n",
    "    u0[0] = 0\n",
    "    u0[-1] = 0\n",
    "    return u0\n",
    "\n",
    "input_list = []\n",
    "output_list = []\n",
    "N_samples = 100\n",
    "for n in range(N_samples):\n",
    "    u0 = compute_u0(xx,zz)\n",
    "    uh = np.zeros((xx.shape[0],tt.shape[0]))\n",
    "    uh[:,0] = u0\n",
    "    last_j=0\n",
    "    for j in range(0, tt.shape[0]-1):\n",
    "        for i in range(1, xx.shape[0]-1):\n",
    "            uh[i,j+1] = uh[i,j] + nu*dt*(uh[i+1,j] - 2*uh[i,j] + uh[i-1,j])/(dx**2) - 0.5*dt*(uh[i,j]**2-uh[i-1,j]**2)/dx\n",
    "        if np.mod(j,resolution)==0 and not(j==0):\n",
    "            factor = np.amax(np.abs(uh[:,last_j]))\n",
    "            input_list.append(1/factor*uh[:,last_j])\n",
    "            output_list.append(1/factor*(uh[:,j]))\n",
    "            last_j=j\n",
    "    clear_output(wait=True)\n",
    "    print('Advancing: '+str((n+1)/N_samples*100) +'%')\n",
    "\n",
    "input = np.array(input_list)\n",
    "output = np.array(output_list)\n",
    "\n",
    "from sklearn.model_selection import train_test_split\n",
    "input_train, input_test, output_train, output_test = train_test_split(input, output, test_size=0.2)\n",
    "\n",
    "np.save('../data/Burgers_time/input_train.npy', input_train)\n",
    "np.save('../data/Burgers_time/output_train.npy', output_train)\n",
    "np.save('../data/Burgers_time/input_test.npy', input_test)\n",
    "np.save('../data/Burgers_time/output_test.npy', output_test)"
   ]
  }
 ],
 "metadata": {
  "language_info": {
   "name": "python"
  }
 },
 "nbformat": 4,
 "nbformat_minor": 2
}
