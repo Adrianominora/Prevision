{
 "cells": [
  {
   "cell_type": "code",
   "execution_count": 1,
   "metadata": {},
   "outputs": [],
   "source": [
    "import numpy as np\n",
    "import matplotlib.pyplot as plt\n",
    "import tensorflow as tf\n",
    "from scipy import interpolate\n",
    "from IPython.display import clear_output"
   ]
  },
  {
   "cell_type": "code",
   "execution_count": 2,
   "metadata": {},
   "outputs": [
    {
     "name": "stdout",
     "output_type": "stream",
     "text": [
      "CFL condition: 0.625\n"
     ]
    }
   ],
   "source": [
    "Nx = 2**6\n",
    "Nt = 2**17\n",
    "dx = 1/Nx\n",
    "dt = 1/Nt\n",
    "xx = np.arange(0,1+dx,dx)\n",
    "tt = np.arange(0,1+dt,dt)\n",
    "nu = 0.1\n",
    "cfl = dt/(dx**2/2*nu)\n",
    "print('CFL condition: '+str(cfl))\n",
    "resolution = int(Nt/100)\n",
    "\n",
    "k_list = [n for n in range(1,9)]\n",
    "phi_list = [n*np.pi/4 for n in range(1,9)]\n",
    "\n",
    "def compute_u0(xx):\n",
    "    u0 = np.zeros_like(xx)\n",
    "    count = 0\n",
    "    for index,x in enumerate(xx):\n",
    "        rel_index = index/xx.shape[0]*100\n",
    "        if rel_index >= count*10 or index==0:\n",
    "            val = np.random.randint(0,2)\n",
    "            count += 1\n",
    "        u0[index] = val\n",
    "    return u0"
   ]
  },
  {
   "cell_type": "code",
   "execution_count": 3,
   "metadata": {},
   "outputs": [
    {
     "name": "stdout",
     "output_type": "stream",
     "text": [
      "1\n",
      "2\n",
      "3\n",
      "4\n",
      "5\n",
      "6\n",
      "7\n",
      "8\n"
     ]
    }
   ],
   "source": [
    "input_list = []\n",
    "output_list = []\n",
    "for k in k_list:\n",
    "    print(k)\n",
    "    for phi in phi_list:\n",
    "        u0 = compute_u0(xx)\n",
    "        uh = np.zeros((xx.shape[0],tt.shape[0]))\n",
    "        uh[:,0] = u0\n",
    "        for j in range(0, tt.shape[0]-1):\n",
    "            for i in range(1, xx.shape[0]-1):\n",
    "                uh[i,j+1] = uh[i,j] + nu*dt*(uh[i+1,j] - 2*uh[i,j] + uh[i-1,j])/(dx**2) - 0.5*dt*(uh[i,j]**2-uh[i-1,j]**2)/dx\n",
    "            if np.mod(j,resolution)==0:\n",
    "                input_list.append(uh[:,j])\n",
    "                output_list.append(uh[:,j+1])"
   ]
  },
  {
   "cell_type": "code",
   "execution_count": 4,
   "metadata": {},
   "outputs": [],
   "source": [
    "input = np.array(input_list)\n",
    "output = np.array(output_list)\n",
    "\n",
    "from sklearn.model_selection import train_test_split\n",
    "input_train, input_test, output_train, output_test = train_test_split(input, output)"
   ]
  },
  {
   "cell_type": "code",
   "execution_count": 5,
   "metadata": {},
   "outputs": [],
   "source": [
    "save_flag = False\n",
    "# save_flag = True\n",
    "if save_flag:\n",
    "    np.save('../data/Burgers_time/input_train.npy', input_train)\n",
    "    np.save('../data/Burgers_time/output_train.npy', output_train)\n",
    "    np.save('../data/Burgers_time/input_test.npy', input_test)\n",
    "    np.save('../data/Burgers_time/output_test.npy', output_test)\n",
    "    print('dataset saved')"
   ]
  }
 ],
 "metadata": {
  "kernelspec": {
   "display_name": "my-env",
   "language": "python",
   "name": "python3"
  },
  "language_info": {
   "codemirror_mode": {
    "name": "ipython",
    "version": 3
   },
   "file_extension": ".py",
   "mimetype": "text/x-python",
   "name": "python",
   "nbconvert_exporter": "python",
   "pygments_lexer": "ipython3",
   "version": "3.10.9"
  },
  "orig_nbformat": 4
 },
 "nbformat": 4,
 "nbformat_minor": 2
}
