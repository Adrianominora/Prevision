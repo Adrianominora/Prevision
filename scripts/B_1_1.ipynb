{
 "cells": [
  {
   "cell_type": "markdown",
   "metadata": {},
   "source": [
    "Burgers equation - Generating training data"
   ]
  },
  {
   "cell_type": "code",
   "execution_count": 1,
   "metadata": {},
   "outputs": [],
   "source": [
    "import numpy as np\n",
    "from scipy import interpolate\n",
    "from IPython.display import clear_output"
   ]
  },
  {
   "cell_type": "code",
   "execution_count": null,
   "metadata": {},
   "outputs": [],
   "source": [
    "# Training set\n",
    "N_samples = 640\n",
    "Nx = 2**6\n",
    "Nt = 2**17\n",
    "dx = 1/Nx\n",
    "dz = 5*dx\n",
    "dt = 1/Nt\n",
    "xx = np.arange(0,1+dx,dx)\n",
    "zz = np.arange(0,1+dz,dz)\n",
    "tt = np.arange(0,1+dt,dt)\n",
    "nu = 0.1\n",
    "mean = 0\n",
    "std_dev = 1\n",
    "input_list = []\n",
    "output_list =[]\n",
    "\n",
    "for n in range(N_samples):\n",
    "    clear_output(wait=True)\n",
    "    print('Advancing: '+str(n/N_samples*100) +'%')\n",
    "    u0_ = np.random.normal(mean, std_dev, zz.shape[0])\n",
    "    u0_[0] = 0\n",
    "    u0_[-1] = u0_[0]\n",
    "    spl = interpolate.splrep(zz,u0_)\n",
    "    u0 = interpolate.splev(xx,spl)\n",
    "    uh = np.zeros((xx.shape[0],tt.shape[0]))\n",
    "    uh[:,0] = u0\n",
    "    for j in range(0, tt.shape[0]-1):\n",
    "        for i in range(1, xx.shape[0]-1):\n",
    "            uh[i,j+1] = uh[i,j] + nu*dt*(uh[i+1,j] - 2*uh[i,j] + uh[i-1,j])/(dx**2) - 0.5*dt*(uh[i,j]**2-uh[i-1,j]**2)/dx\n",
    "    input_list.append(u0)\n",
    "    output_list.append(uh[:,-1])\n",
    "\n",
    "input_train = np.array(input_list)\n",
    "output_train = np.array(output_list)\n",
    "\n",
    "np.save('../data/Burgers/input_train.npy', input_train)\n",
    "np.save('../data/Burgers/output_train.npy', output_train)\n",
    "print('train dataset saved')\n",
    "\n",
    "# Test set\n",
    "N_samples = 160\n",
    "Nx = 2**6\n",
    "Nt = 2**17\n",
    "dx = 1/Nx\n",
    "dz = 5*dx\n",
    "dt = 1/Nt\n",
    "xx = np.arange(0,1+dx,dx)\n",
    "zz = np.arange(0,1+dz,dz)\n",
    "tt = np.arange(0,1+dt,dt)\n",
    "nu = 0.1\n",
    "mean = 0\n",
    "std_dev = 1\n",
    "input_list = []\n",
    "output_list =[]\n",
    "\n",
    "for n in range(N_samples):\n",
    "    clear_output(wait=True)\n",
    "    print('Advancing: '+str(n/N_samples*100) +'%')\n",
    "    u0_ = np.random.normal(mean, std_dev, zz.shape[0])\n",
    "    u0_[0] = 0\n",
    "    u0_[-1] = u0_[0]\n",
    "    spl = interpolate.splrep(zz,u0_)\n",
    "    u0 = interpolate.splev(xx,spl)\n",
    "    uh = np.zeros((xx.shape[0],tt.shape[0]))\n",
    "    uh[:,0] = u0\n",
    "    for j in range(0, tt.shape[0]-1):\n",
    "        for i in range(1, xx.shape[0]-1):\n",
    "            uh[i,j+1] = uh[i,j-1] + nu*dt*(uh[i+1,j-1] - 2*uh[i,j-1] + uh[i-1,j-1])/(dx**2) - dt*(uh[i,j]**2-uh[i-1,j]**2)/dx\n",
    "    input_list.append(u0)\n",
    "    output_list.append(uh[:,-1])\n",
    "\n",
    "input_test = np.array(input_list)\n",
    "output_test = np.array(output_list)\n",
    "\n",
    "np.save('../data/Burgers/input_test.npy', input_test)\n",
    "np.save('../data/Burgers/output_test.npy', output_test)\n",
    "print('test dataset saved')"
   ]
  }
 ],
 "metadata": {
  "kernelspec": {
   "display_name": "my-env",
   "language": "python",
   "name": "python3"
  },
  "language_info": {
   "codemirror_mode": {
    "name": "ipython",
    "version": 3
   },
   "file_extension": ".py",
   "mimetype": "text/x-python",
   "name": "python",
   "nbconvert_exporter": "python",
   "pygments_lexer": "ipython3",
   "version": "3.10.9"
  }
 },
 "nbformat": 4,
 "nbformat_minor": 2
}
