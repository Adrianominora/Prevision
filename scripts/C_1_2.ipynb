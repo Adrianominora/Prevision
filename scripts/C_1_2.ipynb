{
 "cells": [
  {
   "cell_type": "markdown",
   "metadata": {},
   "source": [
    "Burgers equation in time - Implementing the FNO model"
   ]
  },
  {
   "cell_type": "code",
   "execution_count": null,
   "metadata": {},
   "outputs": [],
   "source": [
    "import numpy as np\n",
    "import matplotlib.pyplot as plt\n",
    "import prevision as prv\n",
    "import tensorflow as tf"
   ]
  },
  {
   "cell_type": "code",
   "execution_count": null,
   "metadata": {},
   "outputs": [],
   "source": [
    "lr_schedule = tf.keras.optimizers.schedules.InverseTimeDecay(\n",
    "  0.01,    \n",
    "  decay_steps=100,\n",
    "  decay_rate=2,\n",
    "  staircase=True)\n",
    "\n",
    "def custom_loss(y_true, y_pred):\n",
    "    return tf.keras.losses.cosine_similarity(y_true,y_pred) + 30*tf.keras.losses.huber(y_true,y_pred)\n",
    "\n",
    "def get_optimizer():\n",
    "    return tf.keras.optimizers.Adam(lr_schedule)\n",
    "\n",
    "def get_callbacks(name):\n",
    "    return [\n",
    "        tf.keras.callbacks.EarlyStopping(monitor='val_loss', patience=500, min_delta=0.0001),\n",
    "        ]\n",
    "\n",
    "def compile_and_fit(model, name, x_train, y_train, x_test, y_test, optimizer=None, max_epochs=1000, batch_size=32):\n",
    "\n",
    "    if optimizer is None:\n",
    "        optimizer = get_optimizer()\n",
    "\n",
    "    model.compile(optimizer=optimizer,\n",
    "                loss=custom_loss,\n",
    "                metrics=[\n",
    "                  tf.keras.losses.MeanSquaredError(\"auto\", \"mean_squared_error\")])\n",
    "\n",
    "    model.summary()\n",
    "\n",
    "    history = model.fit(\n",
    "            x_train, y_train,\n",
    "            epochs=max_epochs,\n",
    "            validation_data=(x_test,y_test),\n",
    "            callbacks=get_callbacks(name),\n",
    "            batch_size = batch_size,\n",
    "            verbose=2)\n",
    "\n",
    "    return history\n",
    "\n",
    "# Loading training dataset\n",
    "folder = 'Burgers_time'\n",
    "input_train=np.load('../data/' + folder + '/input_train.npy')\n",
    "input_test=np.load('../data/' + folder + '/input_test.npy')\n",
    "output_train=np.load('../data/' + folder + '/output_train.npy')\n",
    "output_test=np.load('../data/' + folder + '/output_test.npy')\n",
    "\n",
    "INPUTDIM = (input_train.shape[1],)\n",
    "OUTPUTDIM = (output_train.shape[1],)\n",
    "\n",
    "# Creting model\n",
    "model = prv.FNO(INPUTDIM, OUTPUTDIM, p_dim=512, n=3, k_max=17, verbose=True, model_name='Burgers_time_FNO', dropout=0.01, kernel_reg=0.001)\n",
    "history = compile_and_fit(model, model.name, x_train=input_train, y_train=output_train, x_test=input_test, y_test=output_test, batch_size=60 , max_epochs=5000)\n",
    "\n",
    "bc     = history.history['loss']\n",
    "val_bc = history.history['val_loss']\n",
    "\n",
    "plt.semilogx(range(np.shape(bc)[0]),bc, linewidth=2,)\n",
    "plt.semilogx(range(np.shape(val_bc)[0]),val_bc,'--', linewidth=2,)\n",
    "plt.title('FNO learning')\n",
    "plt.grid(True)\n",
    "plt.xlabel('Epochs')\n",
    "plt.ylabel('Loss')\n",
    "plt.ylim([-1,0])\n",
    "plt.legend(('Loss training set','Loss validation set'))\n",
    "plt.show()\n",
    "\n",
    "model.save('../data/'+folder+'/Burgers_time_FNO.h5')"
   ]
  }
 ],
 "metadata": {
  "language_info": {
   "name": "python"
  }
 },
 "nbformat": 4,
 "nbformat_minor": 2
}
