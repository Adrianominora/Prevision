{
 "cells": [
  {
   "cell_type": "code",
   "execution_count": 14,
   "metadata": {},
   "outputs": [],
   "source": [
    "import numpy as np\n",
    "import matplotlib.pyplot as plt"
   ]
  },
  {
   "cell_type": "markdown",
   "metadata": {},
   "source": [
    "Training set"
   ]
  },
  {
   "cell_type": "code",
   "execution_count": 15,
   "metadata": {},
   "outputs": [],
   "source": [
    "# T = 50\n",
    "# Nt = 50\n",
    "# dt = T/Nt\n",
    "# x0 = 1\n",
    "# y0 = 0.1\n",
    "# rho_v = np.arange(0.0, 0.1, 0.02)\n",
    "# alpha_v = np.arange(0.0, 0.1, 0.02)\n",
    "# beta_v = np.arange(0.0, 0.1, 0.02)\n",
    "# gamma_v = np.arange(0.0, 0.1, 0.02)\n",
    "# delta_v = np.arange(0.0, 0.1, 0.02)\n",
    "# n_tot = 4**5\n",
    "# k=0\n",
    "# input_list = []\n",
    "# output_list =[]\n",
    "\n",
    "# for rho in rho_v:\n",
    "#     for alpha in alpha_v:\n",
    "#         for beta in beta_v:\n",
    "#             for gamma in gamma_v:\n",
    "#                 for delta in delta_v:\n",
    "#                     k += 1\n",
    "#                     # print('Advancing: '+str(k/n_tot*100)+'%')\n",
    "#                     x_ex = np.zeros((Nt+1,2))\n",
    "#                     tt=np.arange(0,T+dt,dt)\n",
    "#                     for i,t in enumerate(tt):\n",
    "#                         if i==0:\n",
    "#                             x_ex[i,:] = np.array([x0,y0])\n",
    "#                         else:\n",
    "#                             x_ex[i,0] = x_ex[i-1,0] + dt*x_ex[i-1,0]*(alpha-beta*x_ex[i-1,1]-rho*x_ex[i-1,0])\n",
    "#                             x_ex[i,1] = x_ex[i-1,1] + dt*x_ex[i-1,1]*(-gamma+delta*x_ex[i-1,0])\n",
    "#                         if i>=7:\n",
    "#                             input_list.append(x_ex[i-7:i,:].T)\n",
    "#                             output_list.append(x_ex[i,:].T)\n",
    "\n",
    "# input_train = np.array(input_list)\n",
    "# output_train = np.array(output_list)\n"
   ]
  },
  {
   "cell_type": "code",
   "execution_count": 16,
   "metadata": {},
   "outputs": [],
   "source": [
    "T = 100\n",
    "Nt = 100\n",
    "dt = T/Nt\n",
    "x0_v = np.arange(0.1, 1, 0.1)\n",
    "y0_v = np.arange(0.1, 1, 0.1)\n",
    "rho = 0.1\n",
    "alpha = 0.25\n",
    "beta = 0.2\n",
    "gamma = 0.1\n",
    "delta = 0.1\n",
    "\n",
    "input_list = []\n",
    "output_list =[]\n",
    "\n",
    "for x0 in x0_v:\n",
    "    for y0 in y0_v:\n",
    "        x_ex = np.zeros((Nt+1,2))\n",
    "        tt=np.arange(0,T+dt,dt)\n",
    "        for i,t in enumerate(tt):\n",
    "            if i==0:\n",
    "                x_ex[i,:] = np.array([x0,y0])\n",
    "            else:\n",
    "                x_ex[i,0] = x_ex[i-1,0] + dt*x_ex[i-1,0]*(alpha-beta*x_ex[i-1,1]-rho*x_ex[i-1,0])\n",
    "                x_ex[i,1] = x_ex[i-1,1] + dt*x_ex[i-1,1]*(-gamma+delta*x_ex[i-1,0])\n",
    "            if i>=1:\n",
    "                input_list.append(x_ex[i-1:i,:].T)\n",
    "                output_list.append(x_ex[i,:].T)\n",
    "\n",
    "input_train = np.array(input_list)\n",
    "output_train = np.array(output_list)"
   ]
  },
  {
   "cell_type": "code",
   "execution_count": 17,
   "metadata": {},
   "outputs": [],
   "source": [
    "save_flag = False\n",
    "save_flag = True\n",
    "if save_flag:\n",
    "    np.save('../data/input_train.npy', input_train)\n",
    "    np.save('../data/output_train.npy', output_train)"
   ]
  },
  {
   "cell_type": "markdown",
   "metadata": {},
   "source": [
    "Test set"
   ]
  },
  {
   "cell_type": "code",
   "execution_count": 18,
   "metadata": {},
   "outputs": [],
   "source": [
    "# T = 50\n",
    "# Nt = 50\n",
    "# dt = T/Nt\n",
    "# x0 = 1\n",
    "# y0 = 0.1\n",
    "# rho_v = np.arange(0.005, 0.09, 0.02)\n",
    "# alpha_v = np.arange(0.005, 0.09, 0.02)\n",
    "# beta_v = np.arange(0.005, 0.09, 0.02)\n",
    "# gamma_v = np.arange(0.005, 0.09, 0.02)\n",
    "# delta_v = np.arange(0.005, 0.09, 0.02)\n",
    "# n_tot = rho_v.shape[0]**5\n",
    "# k=0\n",
    "# input_list = []\n",
    "# output_list =[]\n",
    "\n",
    "# for rho in rho_v:\n",
    "#     for alpha in alpha_v:\n",
    "#         for beta in beta_v:\n",
    "#             for gamma in gamma_v:\n",
    "#                 for delta in delta_v:\n",
    "#                     k += 1\n",
    "#                     # print('Advancing: '+str(k/n_tot*100)+'%')\n",
    "#                     x_ex = np.zeros((Nt+1,2))\n",
    "#                     tt=np.arange(0,T+dt,dt)\n",
    "#                     for i,t in enumerate(tt):\n",
    "#                         if i==0:\n",
    "#                             x_ex[i,:] = np.array([x0,y0])\n",
    "#                         else:\n",
    "#                             x_ex[i,0] = x_ex[i-1,0] + dt*x_ex[i-1,0]*(alpha-beta*x_ex[i-1,1]-rho*x_ex[i-1,0])\n",
    "#                             x_ex[i,1] = x_ex[i-1,1] + dt*x_ex[i-1,1]*(-gamma+delta*x_ex[i-1,0])\n",
    "#                         if i>=7:\n",
    "#                             input_list.append(x_ex[i-7:i,:].T)\n",
    "#                             output_list.append(x_ex[i,:].T)\n",
    "\n",
    "# input_test = np.array(input_list)\n",
    "# output_test = np.array(output_list)\n"
   ]
  },
  {
   "cell_type": "code",
   "execution_count": 19,
   "metadata": {},
   "outputs": [],
   "source": [
    "T = 100\n",
    "Nt = 100\n",
    "dt = T/Nt\n",
    "x0_v = np.arange(0.5, 1, 0.2)\n",
    "y0_v = np.arange(0.5, 1, 0.2)\n",
    "rho = 0.1\n",
    "alpha = 0.25\n",
    "beta = 0.2\n",
    "gamma = 0.1\n",
    "delta = 0.1\n",
    "\n",
    "input_list = []\n",
    "output_list =[]\n",
    "\n",
    "for x0 in x0_v:\n",
    "    for y0 in y0_v:\n",
    "        x_ex = np.zeros((Nt+1,2))\n",
    "        tt=np.arange(0,T+dt,dt)\n",
    "        for i,t in enumerate(tt):\n",
    "            if i==0:\n",
    "                x_ex[i,:] = np.array([x0,y0])\n",
    "            else:\n",
    "                x_ex[i,0] = x_ex[i-1,0] + dt*x_ex[i-1,0]*(alpha-beta*x_ex[i-1,1]-rho*x_ex[i-1,0])\n",
    "                x_ex[i,1] = x_ex[i-1,1] + dt*x_ex[i-1,1]*(-gamma+delta*x_ex[i-1,0])\n",
    "            if i>=1:\n",
    "                input_list.append(x_ex[i-1:i,:].T)\n",
    "                output_list.append(x_ex[i,:].T)\n",
    "\n",
    "input_test = np.array(input_list)\n",
    "output_test = np.array(output_list)"
   ]
  },
  {
   "cell_type": "code",
   "execution_count": 21,
   "metadata": {},
   "outputs": [
    {
     "name": "stdout",
     "output_type": "stream",
     "text": [
      "Dataset saved\n"
     ]
    }
   ],
   "source": [
    "save_flag = False\n",
    "save_flag = True\n",
    "if save_flag:\n",
    "    np.save('../data/input_test.npy', input_test)\n",
    "    np.save('../data/output_test.npy', output_test)\n",
    "    print('Dataset saved')"
   ]
  }
 ],
 "metadata": {
  "kernelspec": {
   "display_name": "my-env",
   "language": "python",
   "name": "python3"
  },
  "language_info": {
   "codemirror_mode": {
    "name": "ipython",
    "version": 3
   },
   "file_extension": ".py",
   "mimetype": "text/x-python",
   "name": "python",
   "nbconvert_exporter": "python",
   "pygments_lexer": "ipython3",
   "version": "3.10.9"
  },
  "orig_nbformat": 4
 },
 "nbformat": 4,
 "nbformat_minor": 2
}
