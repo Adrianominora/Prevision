{
 "cells": [
  {
   "cell_type": "code",
   "execution_count": 1,
   "metadata": {},
   "outputs": [],
   "source": [
    "import numpy as np\n",
    "import matplotlib.pyplot as plt"
   ]
  },
  {
   "cell_type": "code",
   "execution_count": 2,
   "metadata": {},
   "outputs": [],
   "source": [
    "# training set\n",
    "dx = 0.01\n",
    "dt = 0.1\n",
    "xx = np.arange(0, 1, dx)\n",
    "tt = np.arange(0, 1, dt)\n",
    "Nx = xx.shape[0]\n",
    "Nt = tt.shape[0]\n",
    "\n",
    "a_v = np.arange(-0.9, 1, 0.4)\n",
    "b_v = np.arange(-1, 1, 0.4)\n",
    "\n",
    "input_list = []\n",
    "output_list =[]\n",
    "\n",
    "for a in a_v:\n",
    "    for b in b_v:\n",
    "        u_ex = np.zeros((Nx, Nt))\n",
    "        for i,x in enumerate(xx):\n",
    "            for j,t in enumerate(tt):\n",
    "                u_ex[i,j] = (a*np.sin(2*np.pi*x) + b)/(a*t + 1)\n",
    "                if j > 0:\n",
    "                    input_list.append(u_ex[:,j-1])\n",
    "                    output_list.append(u_ex[:,j])\n",
    "\n",
    "input_train = np.array(input_list)\n",
    "output_train = np.array(output_list)"
   ]
  },
  {
   "cell_type": "code",
   "execution_count": 3,
   "metadata": {},
   "outputs": [],
   "source": [
    "save_flag = False\n",
    "# save_flag = True\n",
    "if save_flag:\n",
    "    np.save('../data/Function/input_train.npy', input_train)\n",
    "    np.save('../data/Function/output_train.npy', output_train)"
   ]
  },
  {
   "cell_type": "code",
   "execution_count": 4,
   "metadata": {},
   "outputs": [],
   "source": [
    "# test set\n",
    "dx = 0.01\n",
    "dt = 0.1\n",
    "xx = np.arange(0, 1, dx)\n",
    "tt = np.arange(0, 1, dt)\n",
    "Nx = xx.shape[0]\n",
    "Nt = tt.shape[0]\n",
    "\n",
    "a_v = np.arange(-0.9, 1, 0.8)\n",
    "b_v = np.arange(-1, 1, 0.8)\n",
    "\n",
    "input_list = []\n",
    "output_list =[]\n",
    "\n",
    "for a in a_v:\n",
    "    for b in b_v:\n",
    "        u_ex = np.zeros((Nx, Nt))\n",
    "        for i,x in enumerate(xx):\n",
    "            for j,t in enumerate(tt):\n",
    "                u_ex[i,j] = (a*np.sin(2*np.pi*x) + b)/(a*t + 1)\n",
    "                if j > 0:\n",
    "                    input_list.append(u_ex[:,j-1])\n",
    "                    output_list.append(u_ex[:,j])\n",
    "\n",
    "input_test = np.array(input_list)\n",
    "output_test = np.array(output_list)"
   ]
  },
  {
   "cell_type": "code",
   "execution_count": 5,
   "metadata": {},
   "outputs": [],
   "source": [
    "save_flag = False\n",
    "# save_flag = True\n",
    "if save_flag:\n",
    "    np.save('../data/Function/input_test.npy', input_test)\n",
    "    np.save('../data/Function/output_test.npy', output_test)"
   ]
  },
  {
   "cell_type": "code",
   "execution_count": 6,
   "metadata": {},
   "outputs": [
    {
     "data": {
      "text/plain": [
       "0.36"
      ]
     },
     "execution_count": 6,
     "metadata": {},
     "output_type": "execute_result"
    }
   ],
   "source": [
    "input_test.shape[0]/input_train.shape[0]"
   ]
  }
 ],
 "metadata": {
  "kernelspec": {
   "display_name": "my-env",
   "language": "python",
   "name": "python3"
  },
  "language_info": {
   "codemirror_mode": {
    "name": "ipython",
    "version": 3
   },
   "file_extension": ".py",
   "mimetype": "text/x-python",
   "name": "python",
   "nbconvert_exporter": "python",
   "pygments_lexer": "ipython3",
   "version": "3.10.9"
  },
  "orig_nbformat": 4
 },
 "nbformat": 4,
 "nbformat_minor": 2
}
