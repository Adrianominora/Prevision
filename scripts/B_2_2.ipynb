{
 "cells": [
  {
   "cell_type": "markdown",
   "metadata": {},
   "source": [
    "Darcy equation - Implementing the FNO model"
   ]
  },
  {
   "cell_type": "code",
   "execution_count": null,
   "metadata": {},
   "outputs": [],
   "source": [
    "import numpy as np\n",
    "import matplotlib.pyplot as plt\n",
    "import prevision as prv\n",
    "import tensorflow as tf\n",
    "from tensorflow import keras"
   ]
  },
  {
   "cell_type": "code",
   "execution_count": null,
   "metadata": {},
   "outputs": [],
   "source": [
    "lr_schedule = tf.keras.optimizers.schedules.InverseTimeDecay(\n",
    "  0.01,    \n",
    "  decay_steps=50,\n",
    "  decay_rate=6,\n",
    "  staircase=True)\n",
    "\n",
    "def get_optimizer():\n",
    "    return tf.keras.optimizers.Adam(lr_schedule)\n",
    "\n",
    "def get_callbacks(name):\n",
    "    return [\n",
    "        tf.keras.callbacks.EarlyStopping(monitor='val_loss', patience=200, min_delta=0.0001),\n",
    "        ]\n",
    "\n",
    "def compile_and_fit(model, name, x_train, y_train, x_test, y_test, optimizer=None, max_epochs=1000):\n",
    "\n",
    "    if optimizer is None:\n",
    "        optimizer = get_optimizer()\n",
    "\n",
    "    model.compile(optimizer=optimizer,\n",
    "                loss=tf.keras.losses.MeanSquaredError(),\n",
    "                metrics=[\n",
    "                  tf.keras.losses.MeanSquaredError(\"auto\", \"mean_squared_error\"),\n",
    "                  'accuracy'])\n",
    "\n",
    "    model.summary()\n",
    "\n",
    "    history = model.fit(\n",
    "            x_train, y_train,\n",
    "            epochs=max_epochs,\n",
    "            validation_data=(x_test, y_test),\n",
    "            callbacks=get_callbacks(name),\n",
    "            verbose=2)\n",
    "\n",
    "    return history\n",
    "\n",
    "# Loading training dataset\n",
    "folder = 'Darcy'\n",
    "input_train=np.load('../data/' + folder + '/input_train.npy')\n",
    "input_test=np.load('../data/' + folder + '/input_test.npy')\n",
    "output_train=np.load('../data/' + folder + '/output_train.npy')\n",
    "output_test=np.load('../data/' + folder + '/output_test.npy')\n",
    "\n",
    "INPUTDIM = (input_train.shape[1],input_train.shape[2])\n",
    "OUTPUTDIM = (output_train.shape[1],output_train.shape[2])\n",
    "\n",
    "# Creting model\n",
    "model = prv.FNO2D(INPUTDIM, OUTPUTDIM, p_dim=32, n=11, k_max=7, verbose=True, model_name='Darcy_FNO', dropout=0.05, kernel_reg=0.005)\n",
    "history = compile_and_fit(model, model.name, x_train=input_train, y_train=output_train, x_test=input_test, y_test=output_test, optimizer=None, max_epochs=1000)\n",
    "\n",
    "bc     = history.history['loss']\n",
    "val_bc = history.history['val_loss']\n",
    "\n",
    "plt.loglog(range(np.shape(bc)[0]),bc, linewidth=2,)\n",
    "plt.loglog(range(np.shape(val_bc)[0]),val_bc,'--', linewidth=2,)\n",
    "plt.title('FNO learning')\n",
    "plt.grid(True)\n",
    "plt.xlabel('Epochs')\n",
    "plt.ylabel('Loss')\n",
    "plt.legend(('Loss training set','Loss validation set'))\n",
    "plt.show()\n",
    "\n",
    "model.save('../data/'+folder+'/Darcy_FNO.h5')"
   ]
  }
 ],
 "metadata": {
  "language_info": {
   "name": "python"
  }
 },
 "nbformat": 4,
 "nbformat_minor": 2
}
