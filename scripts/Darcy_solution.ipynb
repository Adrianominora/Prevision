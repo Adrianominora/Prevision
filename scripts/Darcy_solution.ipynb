{
 "cells": [
  {
   "cell_type": "code",
   "execution_count": 1,
   "metadata": {},
   "outputs": [],
   "source": [
    "import numpy as np\n",
    "import matplotlib.pyplot as plt\n",
    "import tensorflow as tf\n",
    "from scipy import interpolate\n",
    "from IPython.display import clear_output\n",
    "from neuralop.datasets import load_darcy_flow_small"
   ]
  },
  {
   "cell_type": "code",
   "execution_count": 2,
   "metadata": {},
   "outputs": [
    {
     "name": "stdout",
     "output_type": "stream",
     "text": [
      "UnitGaussianNormalizer init on 1000, reducing over [0, 1, 2, 3], samples of shape [1, 16, 16].\n",
      "   Mean and std of shape torch.Size([1, 1, 1]), eps=1e-05\n",
      "Loading test db at resolution 32 with 50 samples and batch-size=2\n"
     ]
    }
   ],
   "source": [
    "n_train = 1000\n",
    "n_test = 50\n",
    "\n",
    "train_loader, test_loaders, output_encoder = load_darcy_flow_small(\n",
    "        n_train=n_train, batch_size=4, \n",
    "        test_resolutions=[16, 32], n_tests=[n_test, n_test], test_batch_sizes=[4, 2],\n",
    "        )\n",
    "\n",
    "train_dataset = train_loader.dataset\n",
    "test_dataset = test_loaders[16].dataset"
   ]
  },
  {
   "cell_type": "code",
   "execution_count": 3,
   "metadata": {},
   "outputs": [],
   "source": [
    "# training set\n",
    "input_list = []\n",
    "output_list = []\n",
    "for index in range(n_train):\n",
    "    data = train_dataset[index]\n",
    "    x = data['x']\n",
    "    y = data['y']\n",
    "    a = x[0].numpy()\n",
    "    u = y[0].numpy()\n",
    "    input_list.append(a)\n",
    "    output_list.append(u)\n",
    "\n",
    "input_train = np.array(input_list)[:800,:,:]\n",
    "output_train = np.array(output_list)[:800,:,:]\n",
    "input_test = np.array(input_list)[800:,:,:]\n",
    "output_test = np.array(output_list)[800:,:,:]"
   ]
  },
  {
   "cell_type": "code",
   "execution_count": 7,
   "metadata": {},
   "outputs": [
    {
     "name": "stdout",
     "output_type": "stream",
     "text": [
      "train dataset saved\n",
      "test dataset saved\n"
     ]
    }
   ],
   "source": [
    "save_flag = False\n",
    "# save_flag = True\n",
    "if save_flag:\n",
    "    np.save('../data/Darcy/input_train.npy', input_train)\n",
    "    np.save('../data/Darcy/output_train.npy', output_train)\n",
    "    print('train dataset saved')\n",
    "\n",
    "save_flag = False\n",
    "# save_flag = True\n",
    "if save_flag:\n",
    "    np.save('../data/Darcy/input_test.npy', input_test)\n",
    "    np.save('../data/Darcy/output_test.npy', output_test)\n",
    "    print('test dataset saved')"
   ]
  },
  {
   "cell_type": "code",
   "execution_count": 5,
   "metadata": {},
   "outputs": [],
   "source": [
    "# # test set\n",
    "# input_list = []\n",
    "# output_list = []\n",
    "# for index in range(n_test):\n",
    "#     data = test_dataset[index]\n",
    "#     x = data['x']\n",
    "#     y = data['y']\n",
    "#     a = x[0].numpy()\n",
    "#     u = y[0].numpy()\n",
    "#     input_list.append(a)\n",
    "#     output_list.append(u)\n",
    "\n",
    "# input_test = np.array(input_list)\n",
    "# input_test\n",
    "# output_test = np.array(output_list)"
   ]
  },
  {
   "cell_type": "code",
   "execution_count": 6,
   "metadata": {},
   "outputs": [],
   "source": [
    "# save_flag = False\n",
    "# # save_flag = True\n",
    "# if save_flag:\n",
    "#     np.save('../data/Darcy/input_test.npy', input_test)\n",
    "#     np.save('../data/Darcy/output_test.npy', output_test)\n",
    "#     print('test dataset saved')"
   ]
  }
 ],
 "metadata": {
  "kernelspec": {
   "display_name": "my-env",
   "language": "python",
   "name": "python3"
  },
  "language_info": {
   "codemirror_mode": {
    "name": "ipython",
    "version": 3
   },
   "file_extension": ".py",
   "mimetype": "text/x-python",
   "name": "python",
   "nbconvert_exporter": "python",
   "pygments_lexer": "ipython3",
   "version": "3.10.9"
  },
  "orig_nbformat": 4
 },
 "nbformat": 4,
 "nbformat_minor": 2
}
