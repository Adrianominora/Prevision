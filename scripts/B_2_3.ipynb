{
 "cells": [
  {
   "cell_type": "markdown",
   "metadata": {},
   "source": [
    "Darcy equation - Using the FNO model"
   ]
  },
  {
   "cell_type": "code",
   "execution_count": null,
   "metadata": {},
   "outputs": [],
   "source": [
    "import numpy as np\n",
    "import matplotlib.pyplot as plt\n",
    "from tensorflow import keras\n",
    "from random import randint"
   ]
  },
  {
   "cell_type": "code",
   "execution_count": null,
   "metadata": {},
   "outputs": [],
   "source": [
    "folder = 'Darcy'\n",
    "\n",
    "input_test=np.load('../data/' + folder + '/input_test.npy')\n",
    "output_test=np.load('../data/' + folder + '/output_test.npy')\n",
    "\n",
    "loaded_model = keras.models.load_model('../data/'+folder+'/Darcy_FNO.h5', compile=False)\n",
    "\n",
    "from random import randint\n",
    "rec_output = model.predict(input_test)\n",
    "index = randint(0, input_test.shape[0]-1)\n",
    "\n",
    "fig = plt.figure(figsize=(10, 10))\n",
    "\n",
    "ax = fig.add_subplot(2, 2, 1)\n",
    "ax.set_title('Exact solution')\n",
    "m = ax.imshow(output_test[index])\n",
    "fig.colorbar(m, ax=ax, location='right')\n",
    "\n",
    "ax = fig.add_subplot(2, 2, 2)\n",
    "ax.set_title('Reconstructed solution')\n",
    "m = ax.imshow(rec_output[index])\n",
    "fig.colorbar(m, ax=ax, location='right')\n",
    "\n",
    "ax = fig.add_subplot(2, 2, 3)\n",
    "ax.set_title('Error')\n",
    "m = ax.imshow(output_test[index]-rec_output[index])\n",
    "fig.colorbar(m, ax=ax, location='right')\n",
    "\n",
    "ax = fig.add_subplot(2, 2, 4)\n",
    "ax.set_title('Input')\n",
    "m = ax.imshow(input_train[index])\n",
    "fig.colorbar(m, ax=ax, location='right')"
   ]
  }
 ],
 "metadata": {
  "language_info": {
   "name": "python"
  }
 },
 "nbformat": 4,
 "nbformat_minor": 2
}
