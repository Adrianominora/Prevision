{
 "cells": [
  {
   "cell_type": "markdown",
   "metadata": {},
   "source": [
    "Prey-Predator with surrogate model"
   ]
  },
  {
   "cell_type": "code",
   "execution_count": null,
   "metadata": {},
   "outputs": [],
   "source": [
    "import numpy as np\n",
    "import matplotlib.pyplot as plt\n",
    "import prevision as prv\n",
    "from filterpy.common import Q_discrete_white_noise"
   ]
  },
  {
   "cell_type": "code",
   "execution_count": null,
   "metadata": {},
   "outputs": [],
   "source": [
    "T = 200\n",
    "Nt = 200\n",
    "dt = T/Nt\n",
    "x0 = 1\n",
    "y0 = 0.1\n",
    "rho = 0.1\n",
    "alpha = 0.25\n",
    "beta = 0.2\n",
    "gamma = 0.1\n",
    "delta = 0.1\n",
    "\n",
    "# Define the measurament function\n",
    "def hx(x):\n",
    "   return np.array([x[0], x[1]])\n",
    "\n",
    "# Define the transition function\n",
    "NN=keras.models.load_model('../data/Prey_Predator/model_NN.h5', compile=False)\n",
    "def fxx(x, dt):\n",
    "    x_ = np.empty((1,2,))\n",
    "    x_[0,:] = x\n",
    "    return NN(x_)\n",
    "\n",
    "# Assign the initial x array\n",
    "x = np.array([x0, y0])\n",
    "\n",
    "# Define the covariance matrix\n",
    "P = np.eye(2)\n",
    "# Define the measurament noise\n",
    "R = np.eye(2)\n",
    "# Define the process noise\n",
    "Q = Q_discrete_white_noise(dim=2, dt=dt, var=.01)\n",
    "\n",
    "# Exact solution\n",
    "x_ex = np.zeros((Nt+1,2))\n",
    "tt=np.arange(0,T+dt,dt)\n",
    "for i,t in enumerate(tt):\n",
    "    if i==0:\n",
    "        x_ex[i,:] = np.array([x0,y0])\n",
    "    else:\n",
    "        x_ex[i,0] = x_ex[i-1,0] + dt*x_ex[i-1,0]*(alpha-beta*x_ex[i-1,1]-rho*x_ex[i-1,0])\n",
    "        x_ex[i,1] = x_ex[i-1,1] + dt*x_ex[i-1,1]*(-gamma+delta*x_ex[i-1,0])\n",
    "\n",
    "# Define the data acquisition function\n",
    "def get_sensor_reading(t):\n",
    "    i = np.int32(t/dt)\n",
    "    return x_ex[i,:]\n",
    "\n",
    "# Create the model from library\n",
    "f = prv.EnKF(dim_x=2, dim_z=2, f=fxx, h=hx, get_data=get_sensor_reading, dt=dt, t0=0)\n",
    "f.create_model(x0=np.array([x0, y0]), P=P, R=R, Q=Q, N=100)\n",
    "\n",
    "# Predict/Update loop\n",
    "x_hat = f.loop(T, verbose=True)\n",
    "\n",
    "plt.figure()\n",
    "plt.grid(True)\n",
    "plt.plot(tt,x_hat[:,0], label='estimated prey')\n",
    "plt.plot(tt,x_hat[:,1], label='estimated predators')\n",
    "plt.plot(tt,x_ex[:,0], label='exact prey', linestyle='--')\n",
    "plt.plot(tt,x_ex[:,1], label='exact predators', linestyle='--')\n",
    "plt.legend()\n",
    "plt.ylabel('Prey and Predators [-]')\n",
    "plt.xlabel('Time [-]')\n",
    "\n",
    "plt.figure()\n",
    "plt.grid(True)\n",
    "plt.plot(x_hat[:,0],x_hat[:,1], label='estimated trajectory')\n",
    "plt.plot(x_ex[:,0],x_ex[:,1], label='exact trajectory', linestyle='--')\n",
    "plt.legend()\n",
    "plt.ylabel('Predators [-]')\n",
    "plt.xlabel('Prey [-]')"
   ]
  }
 ],
 "metadata": {
  "language_info": {
   "name": "python"
  }
 },
 "nbformat": 4,
 "nbformat_minor": 2
}
