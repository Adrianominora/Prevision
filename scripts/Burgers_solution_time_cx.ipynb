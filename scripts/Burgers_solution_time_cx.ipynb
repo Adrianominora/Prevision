{
 "cells": [
  {
   "cell_type": "code",
   "execution_count": 19,
   "metadata": {},
   "outputs": [],
   "source": [
    "import numpy as np\n",
    "import matplotlib.pyplot as plt\n",
    "import tensorflow as tf\n",
    "from scipy import interpolate\n",
    "from IPython.display import clear_output"
   ]
  },
  {
   "cell_type": "code",
   "execution_count": 20,
   "metadata": {},
   "outputs": [
    {
     "name": "stdout",
     "output_type": "stream",
     "text": [
      "CFL condition: 0.625\n"
     ]
    }
   ],
   "source": [
    "Nx = 2**6\n",
    "Nt = 2**17\n",
    "dx = 1/Nx\n",
    "dt = 1/Nt\n",
    "xx = np.arange(0,1+dx,dx)\n",
    "tt = np.arange(0,1+dt,dt)\n",
    "nu = 0.1\n",
    "cfl = dt/(dx**2/2*nu)\n",
    "print('CFL condition: '+str(cfl))\n",
    "resolution = int(Nt/100)\n",
    "\n",
    "k_list = [n for n in range(1,9)]\n",
    "phi_list = [n*np.pi/4 for n in range(1,9)]\n",
    "# k_list = [1]\n",
    "# phi_list = [0]\n",
    "\n",
    "def compute_c(xx):\n",
    "    cx = np.zeros_like(xx)\n",
    "    count = 0\n",
    "    for index,x in enumerate(xx):\n",
    "        rel_index = index/xx.shape[0]*100\n",
    "        if rel_index >= count*10 or index==0:\n",
    "            val = np.random.randint(1,4)\n",
    "            count += 1\n",
    "        cx[index] = val\n",
    "    return cx\n"
   ]
  },
  {
   "cell_type": "code",
   "execution_count": 21,
   "metadata": {},
   "outputs": [
    {
     "ename": "KeyboardInterrupt",
     "evalue": "",
     "output_type": "error",
     "traceback": [
      "\u001b[1;31m---------------------------------------------------------------------------\u001b[0m",
      "\u001b[1;31mKeyboardInterrupt\u001b[0m                         Traceback (most recent call last)",
      "\u001b[1;32mc:\\Users\\adria\\OneDrive - Politecnico di Milano\\adriano\\politecnico\\Mathematical Engineering\\Advanced Programming for Scientific Computing\\Progetto PACS\\Prevision\\scripts\\Burgers_solution_time_cx.ipynb Cell 3\u001b[0m line \u001b[0;36m1\n\u001b[0;32m      <a href='vscode-notebook-cell:/c%3A/Users/adria/OneDrive%20-%20Politecnico%20di%20Milano/adriano/politecnico/Mathematical%20Engineering/Advanced%20Programming%20for%20Scientific%20Computing/Progetto%20PACS/Prevision/scripts/Burgers_solution_time_cx.ipynb#W2sZmlsZQ%3D%3D?line=8'>9</a>\u001b[0m \u001b[39mfor\u001b[39;00m j \u001b[39min\u001b[39;00m \u001b[39mrange\u001b[39m(\u001b[39m0\u001b[39m, tt\u001b[39m.\u001b[39mshape[\u001b[39m0\u001b[39m]\u001b[39m-\u001b[39m\u001b[39m1\u001b[39m):\n\u001b[0;32m     <a href='vscode-notebook-cell:/c%3A/Users/adria/OneDrive%20-%20Politecnico%20di%20Milano/adriano/politecnico/Mathematical%20Engineering/Advanced%20Programming%20for%20Scientific%20Computing/Progetto%20PACS/Prevision/scripts/Burgers_solution_time_cx.ipynb#W2sZmlsZQ%3D%3D?line=9'>10</a>\u001b[0m     \u001b[39mfor\u001b[39;00m i \u001b[39min\u001b[39;00m \u001b[39mrange\u001b[39m(\u001b[39m1\u001b[39m, xx\u001b[39m.\u001b[39mshape[\u001b[39m0\u001b[39m]\u001b[39m-\u001b[39m\u001b[39m1\u001b[39m):\n\u001b[1;32m---> <a href='vscode-notebook-cell:/c%3A/Users/adria/OneDrive%20-%20Politecnico%20di%20Milano/adriano/politecnico/Mathematical%20Engineering/Advanced%20Programming%20for%20Scientific%20Computing/Progetto%20PACS/Prevision/scripts/Burgers_solution_time_cx.ipynb#W2sZmlsZQ%3D%3D?line=10'>11</a>\u001b[0m         uh[i,j\u001b[39m+\u001b[39m\u001b[39m1\u001b[39m] \u001b[39m=\u001b[39m uh[i,j] \u001b[39m+\u001b[39m nu\u001b[39m*\u001b[39mdt\u001b[39m*\u001b[39m(uh[i\u001b[39m+\u001b[39m\u001b[39m1\u001b[39m,j] \u001b[39m-\u001b[39m \u001b[39m2\u001b[39m\u001b[39m*\u001b[39muh[i,j] \u001b[39m+\u001b[39m uh[i\u001b[39m-\u001b[39m\u001b[39m1\u001b[39m,j])\u001b[39m/\u001b[39m(dx\u001b[39m*\u001b[39m\u001b[39m*\u001b[39m\u001b[39m2\u001b[39m) \u001b[39m-\u001b[39m \u001b[39m0.5\u001b[39m\u001b[39m*\u001b[39mdt\u001b[39m*\u001b[39mcx[i\u001b[39m-\u001b[39m\u001b[39m1\u001b[39m]\u001b[39m*\u001b[39m(uh[i,j]\u001b[39m*\u001b[39m\u001b[39m*\u001b[39m\u001b[39m2\u001b[39m\u001b[39m-\u001b[39muh[i\u001b[39m-\u001b[39m\u001b[39m1\u001b[39m,j]\u001b[39m*\u001b[39m\u001b[39m*\u001b[39m\u001b[39m2\u001b[39m)\u001b[39m/\u001b[39mdx\n\u001b[0;32m     <a href='vscode-notebook-cell:/c%3A/Users/adria/OneDrive%20-%20Politecnico%20di%20Milano/adriano/politecnico/Mathematical%20Engineering/Advanced%20Programming%20for%20Scientific%20Computing/Progetto%20PACS/Prevision/scripts/Burgers_solution_time_cx.ipynb#W2sZmlsZQ%3D%3D?line=11'>12</a>\u001b[0m     \u001b[39mif\u001b[39;00m np\u001b[39m.\u001b[39mmod(j,resolution)\u001b[39m==\u001b[39m\u001b[39m0\u001b[39m:\n\u001b[0;32m     <a href='vscode-notebook-cell:/c%3A/Users/adria/OneDrive%20-%20Politecnico%20di%20Milano/adriano/politecnico/Mathematical%20Engineering/Advanced%20Programming%20for%20Scientific%20Computing/Progetto%20PACS/Prevision/scripts/Burgers_solution_time_cx.ipynb#W2sZmlsZQ%3D%3D?line=12'>13</a>\u001b[0m         input_list\u001b[39m.\u001b[39mappend([uh[:,j],cx])\n",
      "\u001b[1;31mKeyboardInterrupt\u001b[0m: "
     ]
    }
   ],
   "source": [
    "input_list = []\n",
    "output_list = []\n",
    "for k in k_list:\n",
    "    for phi in phi_list:\n",
    "        u0 = np.sin(k*np.pi*xx+phi)\n",
    "        cx = compute_c(xx)\n",
    "        uh = np.zeros((xx.shape[0],tt.shape[0]))\n",
    "        uh[:,0] = u0\n",
    "        for j in range(0, tt.shape[0]-1):\n",
    "            for i in range(1, xx.shape[0]-1):\n",
    "                uh[i,j+1] = uh[i,j] + nu*dt*(uh[i+1,j] - 2*uh[i,j] + uh[i-1,j])/(dx**2) - 0.5*dt*cx[i-1]*(uh[i,j]**2-uh[i-1,j]**2)/dx\n",
    "            if np.mod(j,resolution)==0:\n",
    "                input_list.append([uh[:,j],cx])\n",
    "                output_list.append(uh[:,j+1])"
   ]
  },
  {
   "cell_type": "code",
   "execution_count": null,
   "metadata": {},
   "outputs": [],
   "source": [
    "input = np.array(input_list)\n",
    "output = np.array(output_list)\n",
    "\n",
    "from sklearn.model_selection import train_test_split\n",
    "input_train, input_test, output_train, output_test = train_test_split(input, output)"
   ]
  },
  {
   "cell_type": "code",
   "execution_count": null,
   "metadata": {},
   "outputs": [
    {
     "name": "stdout",
     "output_type": "stream",
     "text": [
      "dataset saved\n"
     ]
    }
   ],
   "source": [
    "save_flag = False\n",
    "# save_flag = True\n",
    "if save_flag:\n",
    "    np.save('../data/Burgers_time_cx/input_train.npy', input_train)\n",
    "    np.save('../data/Burgers_time_cx/output_train.npy', output_train)\n",
    "    np.save('../data/Burgers_time_cx/input_test.npy', input_test)\n",
    "    np.save('../data/Burgers_time_cx/output_test.npy', output_test)\n",
    "    print('dataset saved')\n",
    "else:\n",
    "    print('dataset not saved')"
   ]
  }
 ],
 "metadata": {
  "kernelspec": {
   "display_name": "my-env",
   "language": "python",
   "name": "python3"
  },
  "language_info": {
   "codemirror_mode": {
    "name": "ipython",
    "version": 3
   },
   "file_extension": ".py",
   "mimetype": "text/x-python",
   "name": "python",
   "nbconvert_exporter": "python",
   "pygments_lexer": "ipython3",
   "version": "3.10.9"
  },
  "orig_nbformat": 4
 },
 "nbformat": 4,
 "nbformat_minor": 2
}
