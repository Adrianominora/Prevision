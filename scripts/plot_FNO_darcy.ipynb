{
  "cells": [
    {
      "cell_type": "markdown",
      "metadata": {},
      "source": [
        "\n",
        "# Training a TFNO on Darcy-Flow\n",
        "\n",
        "In this example, we demonstrate how to use the small Darcy-Flow example we ship with the package\n",
        "to train a Tensorized Fourier-Neural Operator\n"
      ]
    },
    {
      "cell_type": "code",
      "execution_count": 1,
      "metadata": {
        "collapsed": false
      },
      "outputs": [],
      "source": [
        "import torch\n",
        "import matplotlib.pyplot as plt\n",
        "import sys\n",
        "from neuralop.models import TFNO\n",
        "from neuralop import Trainer\n",
        "from neuralop.datasets import load_darcy_flow_small\n",
        "from neuralop.utils import count_params\n",
        "from neuralop import LpLoss, H1Loss\n",
        "\n",
        "device = 'cpu'"
      ]
    },
    {
      "cell_type": "markdown",
      "metadata": {},
      "source": [
        "Loading the Navier-Stokes dataset in 128x128 resolution\n",
        "\n"
      ]
    },
    {
      "cell_type": "code",
      "execution_count": 2,
      "metadata": {
        "collapsed": false
      },
      "outputs": [
        {
          "name": "stdout",
          "output_type": "stream",
          "text": [
            "UnitGaussianNormalizer init on 1000, reducing over [0, 1, 2, 3], samples of shape [1, 16, 16].\n",
            "   Mean and std of shape torch.Size([1, 1, 1]), eps=1e-05\n",
            "Loading test db at resolution 32 with 50 samples and batch-size=32\n"
          ]
        }
      ],
      "source": [
        "train_loader, test_loaders, output_encoder = load_darcy_flow_small(\n",
        "        n_train=1000, batch_size=32, \n",
        "        test_resolutions=[16, 32], n_tests=[100, 50],\n",
        "        test_batch_sizes=[32, 32],\n",
        ")"
      ]
    },
    {
      "cell_type": "markdown",
      "metadata": {},
      "source": [
        "We create a tensorized FNO model\n",
        "\n"
      ]
    },
    {
      "cell_type": "code",
      "execution_count": 3,
      "metadata": {
        "collapsed": false
      },
      "outputs": [
        {
          "name": "stdout",
          "output_type": "stream",
          "text": [
            "\n",
            "Our model has 393665 parameters.\n"
          ]
        }
      ],
      "source": [
        "model = TFNO(n_modes=(16, 16), hidden_channels=32, projection_channels=64, factorization='tucker', rank=0.42)\n",
        "model = model.to(device)\n",
        "\n",
        "n_params = count_params(model)\n",
        "print(f'\\nOur model has {n_params} parameters.')\n",
        "sys.stdout.flush()"
      ]
    },
    {
      "cell_type": "markdown",
      "metadata": {},
      "source": [
        "Create the optimizer\n",
        "\n"
      ]
    },
    {
      "cell_type": "code",
      "execution_count": 4,
      "metadata": {
        "collapsed": false
      },
      "outputs": [],
      "source": [
        "optimizer = torch.optim.Adam(model.parameters(), \n",
        "                                lr=8e-3, \n",
        "                                weight_decay=1e-4)\n",
        "scheduler = torch.optim.lr_scheduler.CosineAnnealingLR(optimizer, T_max=30)"
      ]
    },
    {
      "cell_type": "markdown",
      "metadata": {},
      "source": [
        "Creating the losses\n",
        "\n"
      ]
    },
    {
      "cell_type": "code",
      "execution_count": 5,
      "metadata": {
        "collapsed": false
      },
      "outputs": [],
      "source": [
        "l2loss = LpLoss(d=2, p=2)\n",
        "h1loss = H1Loss(d=2)\n",
        "\n",
        "train_loss = h1loss\n",
        "eval_losses={'h1': h1loss, 'l2': l2loss}"
      ]
    },
    {
      "cell_type": "code",
      "execution_count": 6,
      "metadata": {
        "collapsed": false
      },
      "outputs": [
        {
          "name": "stdout",
          "output_type": "stream",
          "text": [
            "\n",
            "### MODEL ###\n",
            " TFNO(\n",
            "  (fno_blocks): FNOBlocks(\n",
            "    (convs): FactorizedSpectralConv(\n",
            "      (weight): ModuleList(\n",
            "        (0-7): 8 x ComplexTuckerTensor(shape=(32, 32, 8, 8), rank=(25, 25, 6, 6))\n",
            "      )\n",
            "    )\n",
            "    (fno_skips): ModuleList(\n",
            "      (0-3): 4 x Conv2d(32, 32, kernel_size=(1, 1), stride=(1, 1), bias=False)\n",
            "    )\n",
            "  )\n",
            "  (lifting): Lifting(\n",
            "    (fc): Conv2d(3, 32, kernel_size=(1, 1), stride=(1, 1))\n",
            "  )\n",
            "  (projection): Projection(\n",
            "    (fc1): Conv2d(32, 64, kernel_size=(1, 1), stride=(1, 1))\n",
            "    (fc2): Conv2d(64, 1, kernel_size=(1, 1), stride=(1, 1))\n",
            "  )\n",
            ")\n",
            "\n",
            "### OPTIMIZER ###\n",
            " Adam (\n",
            "Parameter Group 0\n",
            "    amsgrad: False\n",
            "    betas: (0.9, 0.999)\n",
            "    capturable: False\n",
            "    differentiable: False\n",
            "    eps: 1e-08\n",
            "    foreach: None\n",
            "    fused: None\n",
            "    initial_lr: 0.008\n",
            "    lr: 0.008\n",
            "    maximize: False\n",
            "    weight_decay: 0.0001\n",
            ")\n",
            "\n",
            "### SCHEDULER ###\n",
            " <torch.optim.lr_scheduler.CosineAnnealingLR object at 0x000002271FD4F190>\n",
            "\n",
            "### LOSSES ###\n",
            "\n",
            " * Train: <neuralop.training.losses.H1Loss object at 0x000002271FD4EE00>\n",
            "\n",
            " * Test: {'h1': <neuralop.training.losses.H1Loss object at 0x000002271FD4EE00>, 'l2': <neuralop.training.losses.LpLoss object at 0x000002273A54E260>}\n"
          ]
        }
      ],
      "source": [
        "print('\\n### MODEL ###\\n', model)\n",
        "print('\\n### OPTIMIZER ###\\n', optimizer)\n",
        "print('\\n### SCHEDULER ###\\n', scheduler)\n",
        "print('\\n### LOSSES ###')\n",
        "print(f'\\n * Train: {train_loss}')\n",
        "print(f'\\n * Test: {eval_losses}')\n",
        "sys.stdout.flush()"
      ]
    },
    {
      "cell_type": "markdown",
      "metadata": {},
      "source": [
        "Create the trainer\n",
        "\n"
      ]
    },
    {
      "cell_type": "code",
      "execution_count": 7,
      "metadata": {
        "collapsed": false
      },
      "outputs": [
        {
          "name": "stdout",
          "output_type": "stream",
          "text": [
            "Training on regular inputs (no multi-grid patching).\n"
          ]
        }
      ],
      "source": [
        "trainer = Trainer(model, n_epochs=20,\n",
        "                  device=device,\n",
        "                  mg_patching_levels=0,\n",
        "                  wandb_log=False,\n",
        "                  log_test_interval=3,\n",
        "                  use_distributed=False,\n",
        "                  verbose=True)"
      ]
    },
    {
      "cell_type": "markdown",
      "metadata": {},
      "source": [
        "Actually train the model on our small Darcy-Flow dataset\n",
        "\n"
      ]
    },
    {
      "cell_type": "code",
      "execution_count": 8,
      "metadata": {
        "collapsed": false
      },
      "outputs": [
        {
          "name": "stdout",
          "output_type": "stream",
          "text": [
            "Training on 1000 samples\n",
            "Testing on [50, 50] samples         on resolutions [16, 32].\n",
            "Training on raw inputs of size x.shape=torch.Size([32, 3, 16, 16]), y.shape=torch.Size([32, 1, 16, 16])\n",
            ".. patched inputs of size x.shape=torch.Size([32, 3, 16, 16]), y.shape=torch.Size([32, 1, 16, 16])\n",
            "Raw outputs of size out.shape=torch.Size([32, 1, 16, 16])\n",
            ".. Processed (unpatched) outputs of size out.shape=torch.Size([32, 1, 16, 16])\n",
            "[0] time=15.05, avg_loss=26.6117, train_err=0.5322, 16_h1=0.4325, 16_l2=0.3393, 32_h1=0.4880, 32_l2=0.3418\n",
            "[3] time=18.00, avg_loss=12.2904, train_err=0.2458, 16_h1=0.2768, 16_l2=0.2261, 32_h1=0.3764, 32_l2=0.2458\n",
            "[6] time=8.61, avg_loss=9.9904, train_err=0.1998, 16_h1=0.1821, 16_l2=0.1354, 32_h1=0.3096, 32_l2=0.1708\n",
            "[9] time=9.75, avg_loss=8.5644, train_err=0.1713, 16_h1=0.1875, 16_l2=0.1432, 32_h1=0.3035, 32_l2=0.1686\n",
            "[12] time=9.85, avg_loss=7.9535, train_err=0.1591, 16_h1=0.1508, 16_l2=0.1051, 32_h1=0.2896, 32_l2=0.1400\n",
            "[15] time=9.47, avg_loss=7.2858, train_err=0.1457, 16_h1=0.1522, 16_l2=0.1096, 32_h1=0.2777, 32_l2=0.1358\n",
            "[18] time=9.37, avg_loss=6.8685, train_err=0.1374, 16_h1=0.1457, 16_l2=0.1027, 32_h1=0.2776, 32_l2=0.1359\n"
          ]
        }
      ],
      "source": [
        "trainer.train(train_loader, test_loaders,\n",
        "              output_encoder,\n",
        "              model, \n",
        "              optimizer,\n",
        "              scheduler, \n",
        "              regularizer=False, \n",
        "              training_loss=train_loss,\n",
        "              eval_losses=eval_losses)"
      ]
    },
    {
      "cell_type": "markdown",
      "metadata": {},
      "source": [
        "Plot the prediction, and compare with the ground-truth \n",
        "Note that we trained on a very small resolution for\n",
        "a very small number of epochs\n",
        "In practice, we would train at larger resolution, on many more samples.\n",
        "\n",
        "However, for practicity, we created a minimal example that\n",
        "i) fits in just a few Mb of memory\n",
        "ii) can be trained quickly on CPU\n",
        "\n",
        "In practice we would train a Neural Operator on one or multiple GPUs\n",
        "\n"
      ]
    },
    {
      "cell_type": "code",
      "execution_count": 9,
      "metadata": {
        "collapsed": false
      },
      "outputs": [
        {
          "name": "stderr",
          "output_type": "stream",
          "text": [
            "C:\\Users\\adria\\AppData\\Local\\Temp\\ipykernel_27240\\1837442807.py:36: UserWarning: Matplotlib is currently using module://matplotlib_inline.backend_inline, which is a non-GUI backend, so cannot show the figure.\n",
            "  fig.show()\n"
          ]
        },
        {
          "data": {
            "image/png": "[encoded data removed]",
            "text/plain": [
              "<Figure size 700x700 with 9 Axes>"
            ]
          },
          "metadata": {},
          "output_type": "display_data"
        }
      ],
      "source": [
        "test_samples = test_loaders[32].dataset\n",
        "\n",
        "fig = plt.figure(figsize=(7, 7))\n",
        "for index in range(3):\n",
        "    data = test_samples[index]\n",
        "    # Input x\n",
        "    x = data['x']\n",
        "    # Ground-truth\n",
        "    y = data['y']\n",
        "    # Model prediction\n",
        "    out = model(x.unsqueeze(0))\n",
        "\n",
        "    ax = fig.add_subplot(3, 3, index*3 + 1)\n",
        "    ax.imshow(x[0], cmap='gray')\n",
        "    if index == 0: \n",
        "        ax.set_title('Input x')\n",
        "    plt.xticks([], [])\n",
        "    plt.yticks([], [])\n",
        "\n",
        "    ax = fig.add_subplot(3, 3, index*3 + 2)\n",
        "    ax.imshow(y.squeeze())\n",
        "    if index == 0: \n",
        "        ax.set_title('Ground-truth y')\n",
        "    plt.xticks([], [])\n",
        "    plt.yticks([], [])\n",
        "\n",
        "    ax = fig.add_subplot(3, 3, index*3 + 3)\n",
        "    ax.imshow(out.squeeze().detach().numpy())\n",
        "    if index == 0: \n",
        "        ax.set_title('Model prediction')\n",
        "    plt.xticks([], [])\n",
        "    plt.yticks([], [])\n",
        "\n",
        "fig.suptitle('Inputs, ground-truth output and prediction.', y=0.98)\n",
        "plt.tight_layout()\n",
        "fig.show()"
      ]
    }
  ],
  "metadata": {
    "kernelspec": {
      "display_name": "Python 3",
      "language": "python",
      "name": "python3"
    },
    "language_info": {
      "codemirror_mode": {
        "name": "ipython",
        "version": 3
      },
      "file_extension": ".py",
      "mimetype": "text/x-python",
      "name": "python",
      "nbconvert_exporter": "python",
      "pygments_lexer": "ipython3",
      "version": "3.10.9"
    }
  },
  "nbformat": 4,
  "nbformat_minor": 0
}
