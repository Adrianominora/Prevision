{
 "cells": [
  {
   "cell_type": "markdown",
   "metadata": {},
   "source": [
    "Darcy equation - Generating training data"
   ]
  },
  {
   "cell_type": "code",
   "execution_count": null,
   "metadata": {},
   "outputs": [],
   "source": [
    "import numpy as np\n",
    "from neuralop.datasets import load_darcy_flow_small"
   ]
  },
  {
   "cell_type": "code",
   "execution_count": null,
   "metadata": {},
   "outputs": [],
   "source": [
    "n_train = 1000\n",
    "\n",
    "train_loader, test_loaders, output_encoder = load_darcy_flow_small(\n",
    "        n_train=n_train, batch_size=4,\n",
    "        )\n",
    "\n",
    "train_dataset = train_loader.dataset\n",
    "\n",
    "input_list = []\n",
    "output_list = []\n",
    "for index in range(n_train):\n",
    "    data = train_dataset[index]\n",
    "    x = data['x']\n",
    "    y = data['y']\n",
    "    a = x[0].numpy()\n",
    "    u = y[0].numpy()\n",
    "    input_list.append(a)\n",
    "    output_list.append(u)\n",
    "\n",
    "input_train = np.array(input_list)[:800,:,:]\n",
    "output_train = np.array(output_list)[:800,:,:]\n",
    "input_test = np.array(input_list)[800:,:,:]\n",
    "output_test = np.array(output_list)[800:,:,:]\n",
    "\n",
    "np.save('../data/Darcy/input_train.npy', input_train)\n",
    "np.save('../data/Darcy/output_train.npy', output_train)\n",
    "print('train dataset saved')\n",
    "\n",
    "np.save('../data/Darcy/input_test.npy', input_test)\n",
    "np.save('../data/Darcy/output_test.npy', output_test)\n",
    "print('test dataset saved')"
   ]
  }
 ],
 "metadata": {
  "language_info": {
   "name": "python"
  }
 },
 "nbformat": 4,
 "nbformat_minor": 2
}
